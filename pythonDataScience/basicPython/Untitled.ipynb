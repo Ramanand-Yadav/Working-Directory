{
 "cells": [
  {
   "cell_type": "code",
   "execution_count": 1,
   "id": "3aba4c28",
   "metadata": {},
   "outputs": [],
   "source": [
    "num = '8'"
   ]
  },
  {
   "cell_type": "code",
   "execution_count": 2,
   "id": "94cd5bf4",
   "metadata": {},
   "outputs": [
    {
     "name": "stdout",
     "output_type": "stream",
     "text": [
      "8\n"
     ]
    }
   ],
   "source": [
    "print(num)"
   ]
  },
  {
   "cell_type": "code",
   "execution_count": 3,
   "id": "5019182f",
   "metadata": {},
   "outputs": [
    {
     "name": "stdout",
     "output_type": "stream",
     "text": [
      "<class 'str'>\n"
     ]
    }
   ],
   "source": [
    "print(type(num))"
   ]
  },
  {
   "cell_type": "code",
   "execution_count": 5,
   "id": "6fb0ce91",
   "metadata": {},
   "outputs": [
    {
     "name": "stdout",
     "output_type": "stream",
     "text": [
      "8 <class 'int'>\n"
     ]
    }
   ],
   "source": [
    "num = int(num)\n",
    "print(num, type(num))"
   ]
  },
  {
   "cell_type": "code",
   "execution_count": 7,
   "id": "2912e304",
   "metadata": {},
   "outputs": [
    {
     "name": "stdout",
     "output_type": "stream",
     "text": [
      "Enter you age : 90\n"
     ]
    }
   ],
   "source": [
    "age = int(input(\"Enter you age : \"))"
   ]
  },
  {
   "cell_type": "code",
   "execution_count": 8,
   "id": "d019afdf",
   "metadata": {},
   "outputs": [
    {
     "name": "stdout",
     "output_type": "stream",
     "text": [
      "28\n"
     ]
    }
   ],
   "source": [
    "a = 1 + 2 + 3 + \\\n",
    "    4+ 6 + 6 + \\\n",
    "    6\n",
    "print(a)"
   ]
  },
  {
   "cell_type": "markdown",
   "id": "ebe03c4c",
   "metadata": {},
   "source": [
    "Output Fromatting\n"
   ]
  },
  {
   "cell_type": "code",
   "execution_count": 10,
   "id": "443ae9a7",
   "metadata": {},
   "outputs": [
    {
     "name": "stdout",
     "output_type": "stream",
     "text": [
      "the value of a is 10 and b is 20\n"
     ]
    }
   ],
   "source": [
    "a = 10\n",
    "b = 20 \n",
    "print(\"the value of a is {} and b is {}\".format(a, b))"
   ]
  },
  {
   "cell_type": "code",
   "execution_count": 11,
   "id": "cb292d4c",
   "metadata": {},
   "outputs": [
    {
     "name": "stdout",
     "output_type": "stream",
     "text": [
      "the value of a is 20 and b is 10\n"
     ]
    }
   ],
   "source": [
    "a = 10\n",
    "b = 20 \n",
    "print(\"the value of a is {1} and b is {0}\".format(a, b))"
   ]
  },
  {
   "cell_type": "code",
   "execution_count": 12,
   "id": "a37f4036",
   "metadata": {},
   "outputs": [
    {
     "name": "stdout",
     "output_type": "stream",
     "text": [
      " Hello Mohit  , Good Morning \n"
     ]
    }
   ],
   "source": [
    "name = 'Mohit '\n",
    "greetings = \"Good Morning \"\n",
    "print( \" Hello {n} , {g}\".format(g = greetings, n= name))"
   ]
  },
  {
   "cell_type": "markdown",
   "id": "8bfd2b92",
   "metadata": {},
   "source": [
    "Expression specail in python - > in is and or not  we can use "
   ]
  },
  {
   "cell_type": "code",
   "execution_count": 13,
   "id": "ede06be4",
   "metadata": {},
   "outputs": [
    {
     "data": {
      "text/plain": [
       "'0b1010'"
      ]
     },
     "execution_count": 13,
     "metadata": {},
     "output_type": "execute_result"
    }
   ],
   "source": [
    "bin(10)"
   ]
  },
  {
   "cell_type": "code",
   "execution_count": 14,
   "id": "e9497beb",
   "metadata": {},
   "outputs": [
    {
     "data": {
      "text/plain": [
       "'0b100'"
      ]
     },
     "execution_count": 14,
     "metadata": {},
     "output_type": "execute_result"
    }
   ],
   "source": [
    "bin(4)"
   ]
  },
  {
   "cell_type": "code",
   "execution_count": 15,
   "id": "0f3a582a",
   "metadata": {},
   "outputs": [
    {
     "data": {
      "text/plain": [
       "0"
      ]
     },
     "execution_count": 15,
     "metadata": {},
     "output_type": "execute_result"
    }
   ],
   "source": [
    "10 & 4"
   ]
  },
  {
   "cell_type": "code",
   "execution_count": 18,
   "id": "c2b25753",
   "metadata": {},
   "outputs": [
    {
     "data": {
      "text/plain": [
       "14"
      ]
     },
     "execution_count": 18,
     "metadata": {},
     "output_type": "execute_result"
    }
   ],
   "source": [
    "bin(10 | 4)\n",
    "10 | 4"
   ]
  },
  {
   "cell_type": "code",
   "execution_count": 19,
   "id": "d7491ffa",
   "metadata": {},
   "outputs": [],
   "source": [
    "a, b, c = 'ML', 36, 89"
   ]
  },
  {
   "cell_type": "markdown",
   "id": "001d2c01",
   "metadata": {},
   "source": [
    "Special Operators "
   ]
  },
  {
   "cell_type": "code",
   "execution_count": 22,
   "id": "9d368ef9",
   "metadata": {},
   "outputs": [],
   "source": [
    "my_str = \"Good Morning\""
   ]
  },
  {
   "cell_type": "code",
   "execution_count": 23,
   "id": "6efcb1b0",
   "metadata": {},
   "outputs": [
    {
     "data": {
      "text/plain": [
       "True"
      ]
     },
     "execution_count": 23,
     "metadata": {},
     "output_type": "execute_result"
    }
   ],
   "source": [
    "\"Good\" in my_str"
   ]
  },
  {
   "cell_type": "code",
   "execution_count": 24,
   "id": "d69d4a7d",
   "metadata": {},
   "outputs": [
    {
     "data": {
      "text/plain": [
       "True"
      ]
     },
     "execution_count": 24,
     "metadata": {},
     "output_type": "execute_result"
    }
   ],
   "source": [
    "\"bad\" not in my_str"
   ]
  },
  {
   "cell_type": "code",
   "execution_count": 26,
   "id": "c28bf109",
   "metadata": {},
   "outputs": [],
   "source": [
    "n1 = 5000\n",
    "n2 = 300"
   ]
  },
  {
   "cell_type": "code",
   "execution_count": 27,
   "id": "3cf0c06d",
   "metadata": {},
   "outputs": [
    {
     "data": {
      "text/plain": [
       "2257179435888"
      ]
     },
     "execution_count": 27,
     "metadata": {},
     "output_type": "execute_result"
    }
   ],
   "source": [
    "id(n1)\n",
    "id(n2)"
   ]
  },
  {
   "cell_type": "code",
   "execution_count": 28,
   "id": "26de330f",
   "metadata": {},
   "outputs": [
    {
     "data": {
      "text/plain": [
       "False"
      ]
     },
     "execution_count": 28,
     "metadata": {},
     "output_type": "execute_result"
    }
   ],
   "source": [
    "n1 is n2"
   ]
  },
  {
   "cell_type": "code",
   "execution_count": 29,
   "id": "9a85adea",
   "metadata": {},
   "outputs": [
    {
     "data": {
      "text/plain": [
       "False"
      ]
     },
     "execution_count": 29,
     "metadata": {},
     "output_type": "execute_result"
    }
   ],
   "source": [
    "n1 == n2"
   ]
  },
  {
   "cell_type": "code",
   "execution_count": null,
   "id": "be01ae06",
   "metadata": {},
   "outputs": [],
   "source": [
    "n1 is n2 > is used fro checking object is same or not "
   ]
  },
  {
   "cell_type": "code",
   "execution_count": 30,
   "id": "74ddae2f",
   "metadata": {},
   "outputs": [
    {
     "data": {
      "text/plain": [
       "1011"
      ]
     },
     "execution_count": 30,
     "metadata": {},
     "output_type": "execute_result"
    }
   ],
   "source": [
    "int(1011)"
   ]
  },
  {
   "cell_type": "code",
   "execution_count": 32,
   "id": "9e19deb6",
   "metadata": {},
   "outputs": [
    {
     "data": {
      "text/plain": [
       "'t'"
      ]
     },
     "execution_count": 32,
     "metadata": {},
     "output_type": "execute_result"
    }
   ],
   "source": [
    "['f','t'][bool('spam')]"
   ]
  },
  {
   "cell_type": "markdown",
   "id": "30284d0f",
   "metadata": {},
   "source": [
    "control flow "
   ]
  },
  {
   "cell_type": "code",
   "execution_count": 33,
   "id": "40f1a511",
   "metadata": {},
   "outputs": [
    {
     "name": "stdout",
     "output_type": "stream",
     "text": [
      "Grow up kid. \n"
     ]
    }
   ],
   "source": [
    "age = 14\n",
    "if( age >= 18 ):\n",
    "    print(\"You are eligible to Vote. \")\n",
    "else : \n",
    "    print(\"Grow up kid. \")"
   ]
  },
  {
   "cell_type": "code",
   "execution_count": 35,
   "id": "50e83878",
   "metadata": {},
   "outputs": [
    {
     "ename": "TypeError",
     "evalue": "range expected at least 1 argument, got 0",
     "output_type": "error",
     "traceback": [
      "\u001b[1;31m---------------------------------------------------------------------------\u001b[0m",
      "\u001b[1;31mTypeError\u001b[0m                                 Traceback (most recent call last)",
      "\u001b[1;32m~\\AppData\\Local\\Temp/ipykernel_12712/2741177838.py\u001b[0m in \u001b[0;36m<module>\u001b[1;34m\u001b[0m\n\u001b[1;32m----> 1\u001b[1;33m \u001b[0mrange\u001b[0m\u001b[1;33m(\u001b[0m\u001b[1;33m)\u001b[0m\u001b[1;33m\u001b[0m\u001b[1;33m\u001b[0m\u001b[0m\n\u001b[0m",
      "\u001b[1;31mTypeError\u001b[0m: range expected at least 1 argument, got 0"
     ]
    }
   ],
   "source": [
    "range()"
   ]
  },
  {
   "cell_type": "code",
   "execution_count": 36,
   "id": "5ad9b541",
   "metadata": {},
   "outputs": [
    {
     "data": {
      "text/plain": [
       "13"
      ]
     },
     "execution_count": 36,
     "metadata": {},
     "output_type": "execute_result"
    }
   ],
   "source": [
    "5%10*2-5+8"
   ]
  },
  {
   "cell_type": "markdown",
   "id": "d44d6683",
   "metadata": {},
   "source": [
    "Break Continue & Pass "
   ]
  },
  {
   "cell_type": "code",
   "execution_count": 38,
   "id": "6e21ba08",
   "metadata": {},
   "outputs": [
    {
     "name": "stdout",
     "output_type": "stream",
     "text": [
      "1\n",
      "2\n",
      "3\n",
      "4\n"
     ]
    }
   ],
   "source": [
    "for i in range(1, 10):\n",
    "    if( i==5 ):\n",
    "        break\n",
    "    print(i)"
   ]
  },
  {
   "cell_type": "code",
   "execution_count": 39,
   "id": "b2f40874",
   "metadata": {},
   "outputs": [
    {
     "name": "stdout",
     "output_type": "stream",
     "text": [
      "J, h, o, n, "
     ]
    }
   ],
   "source": [
    "for l in 'Jhon':\n",
    "    if l == 'o':\n",
    "        pass\n",
    "    print(l, end=\", \")"
   ]
  },
  {
   "cell_type": "code",
   "execution_count": 41,
   "id": "01b536ab",
   "metadata": {},
   "outputs": [
    {
     "data": {
      "text/plain": [
       "5312.0"
      ]
     },
     "execution_count": 41,
     "metadata": {},
     "output_type": "execute_result"
    }
   ],
   "source": [
    "53120/10"
   ]
  },
  {
   "cell_type": "code",
   "execution_count": null,
   "id": "c9740078",
   "metadata": {},
   "outputs": [],
   "source": []
  },
  {
   "cell_type": "markdown",
   "id": "b3ee65f6",
   "metadata": {},
   "source": []
  }
 ],
 "metadata": {
  "kernelspec": {
   "display_name": "Python 3 (ipykernel)",
   "language": "python",
   "name": "python3"
  },
  "language_info": {
   "codemirror_mode": {
    "name": "ipython",
    "version": 3
   },
   "file_extension": ".py",
   "mimetype": "text/x-python",
   "name": "python",
   "nbconvert_exporter": "python",
   "pygments_lexer": "ipython3",
   "version": "3.9.7"
  }
 },
 "nbformat": 4,
 "nbformat_minor": 5
}
